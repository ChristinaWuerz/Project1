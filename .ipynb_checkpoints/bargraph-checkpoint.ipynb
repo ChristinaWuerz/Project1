{
 "cells": [
  {
   "cell_type": "code",
   "execution_count": 1,
   "metadata": {},
   "outputs": [],
   "source": [
    "import csv\n",
    "import pandas as pd\n",
    "import matplotlib.pyplot as plt\n",
    "import numpy as np"
   ]
  },
  {
   "cell_type": "code",
   "execution_count": 2,
   "metadata": {},
   "outputs": [],
   "source": [
    "h_file = \"Resources/Dallas_County_Hosptials4.csv\"\n",
    "c_file = \"Resources/DallasCensusData.csv\""
   ]
  },
  {
   "cell_type": "code",
   "execution_count": 3,
   "metadata": {},
   "outputs": [
    {
     "data": {
      "text/html": [
       "<div>\n",
       "<style scoped>\n",
       "    .dataframe tbody tr th:only-of-type {\n",
       "        vertical-align: middle;\n",
       "    }\n",
       "\n",
       "    .dataframe tbody tr th {\n",
       "        vertical-align: top;\n",
       "    }\n",
       "\n",
       "    .dataframe thead th {\n",
       "        text-align: right;\n",
       "    }\n",
       "</style>\n",
       "<table border=\"1\" class=\"dataframe\">\n",
       "  <thead>\n",
       "    <tr style=\"text-align: right;\">\n",
       "      <th></th>\n",
       "      <th>Unnamed: 0</th>\n",
       "      <th>Hospital Name</th>\n",
       "      <th>Address</th>\n",
       "      <th>State</th>\n",
       "      <th>ZIP Code</th>\n",
       "      <th>County Name</th>\n",
       "      <th>Hospital Type</th>\n",
       "      <th>Emergency Services</th>\n",
       "      <th>Hospital overall rating</th>\n",
       "    </tr>\n",
       "  </thead>\n",
       "  <tbody>\n",
       "    <tr>\n",
       "      <td>22</td>\n",
       "      <td>4641</td>\n",
       "      <td>CITY HOSPITAL AT  WHITE ROCK</td>\n",
       "      <td>9440 POPPY DR</td>\n",
       "      <td>TX</td>\n",
       "      <td>75218</td>\n",
       "      <td>DALLAS</td>\n",
       "      <td>Acute Care Hospitals</td>\n",
       "      <td>True</td>\n",
       "      <td>2</td>\n",
       "    </tr>\n",
       "    <tr>\n",
       "      <td>23</td>\n",
       "      <td>4642</td>\n",
       "      <td>TEXAS GENERAL HOSPITAL</td>\n",
       "      <td>2709 HOSPITAL BLVD</td>\n",
       "      <td>TX</td>\n",
       "      <td>75051</td>\n",
       "      <td>DALLAS</td>\n",
       "      <td>Acute Care Hospitals</td>\n",
       "      <td>True</td>\n",
       "      <td>Not Available</td>\n",
       "    </tr>\n",
       "    <tr>\n",
       "      <td>24</td>\n",
       "      <td>4660</td>\n",
       "      <td>BAYLOR SCOTT AND WHITE HEART AND VASCULAR HOSP...</td>\n",
       "      <td>621 NORTH HALL STREET</td>\n",
       "      <td>TX</td>\n",
       "      <td>75226</td>\n",
       "      <td>DALLAS</td>\n",
       "      <td>Acute Care Hospitals</td>\n",
       "      <td>True</td>\n",
       "      <td>5</td>\n",
       "    </tr>\n",
       "    <tr>\n",
       "      <td>25</td>\n",
       "      <td>4698</td>\n",
       "      <td>CRESCENT MEDICAL CENTER LANCASTER</td>\n",
       "      <td>2600 WEST PLEASANT RUN ROAD</td>\n",
       "      <td>TX</td>\n",
       "      <td>75146</td>\n",
       "      <td>DALLAS</td>\n",
       "      <td>Acute Care Hospitals</td>\n",
       "      <td>True</td>\n",
       "      <td>Not Available</td>\n",
       "    </tr>\n",
       "    <tr>\n",
       "      <td>26</td>\n",
       "      <td>4755</td>\n",
       "      <td>TEXAS SCOTTISH RITE HOSPITAL FOR CHILDREN</td>\n",
       "      <td>2222 WELBORN STREET</td>\n",
       "      <td>TX</td>\n",
       "      <td>75219</td>\n",
       "      <td>DALLAS</td>\n",
       "      <td>Childrens</td>\n",
       "      <td>False</td>\n",
       "      <td>Not Available</td>\n",
       "    </tr>\n",
       "  </tbody>\n",
       "</table>\n",
       "</div>"
      ],
      "text/plain": [
       "    Unnamed: 0                                      Hospital Name  \\\n",
       "22        4641                       CITY HOSPITAL AT  WHITE ROCK   \n",
       "23        4642                             TEXAS GENERAL HOSPITAL   \n",
       "24        4660  BAYLOR SCOTT AND WHITE HEART AND VASCULAR HOSP...   \n",
       "25        4698                  CRESCENT MEDICAL CENTER LANCASTER   \n",
       "26        4755          TEXAS SCOTTISH RITE HOSPITAL FOR CHILDREN   \n",
       "\n",
       "                        Address State  ZIP Code County Name  \\\n",
       "22                9440 POPPY DR    TX     75218      DALLAS   \n",
       "23           2709 HOSPITAL BLVD    TX     75051      DALLAS   \n",
       "24        621 NORTH HALL STREET    TX     75226      DALLAS   \n",
       "25  2600 WEST PLEASANT RUN ROAD    TX     75146      DALLAS   \n",
       "26          2222 WELBORN STREET    TX     75219      DALLAS   \n",
       "\n",
       "           Hospital Type  Emergency Services Hospital overall rating  \n",
       "22  Acute Care Hospitals                True                       2  \n",
       "23  Acute Care Hospitals                True           Not Available  \n",
       "24  Acute Care Hospitals                True                       5  \n",
       "25  Acute Care Hospitals                True           Not Available  \n",
       "26             Childrens               False           Not Available  "
      ]
     },
     "execution_count": 3,
     "metadata": {},
     "output_type": "execute_result"
    }
   ],
   "source": [
    "h_df = pd.read_csv(h_file)\n",
    "c_df = pd.read_csv(c_file)\n",
    "\n",
    "\n",
    "h_df.tail()"
   ]
  },
  {
   "cell_type": "code",
   "execution_count": 4,
   "metadata": {},
   "outputs": [
    {
     "data": {
      "text/html": [
       "<div>\n",
       "<style scoped>\n",
       "    .dataframe tbody tr th:only-of-type {\n",
       "        vertical-align: middle;\n",
       "    }\n",
       "\n",
       "    .dataframe tbody tr th {\n",
       "        vertical-align: top;\n",
       "    }\n",
       "\n",
       "    .dataframe thead th {\n",
       "        text-align: right;\n",
       "    }\n",
       "</style>\n",
       "<table border=\"1\" class=\"dataframe\">\n",
       "  <thead>\n",
       "    <tr style=\"text-align: right;\">\n",
       "      <th></th>\n",
       "      <th>Zipcode</th>\n",
       "      <th>Population</th>\n",
       "      <th>Median Age</th>\n",
       "      <th>Household Income</th>\n",
       "      <th>Per Capita Income</th>\n",
       "      <th>Poverty Count</th>\n",
       "      <th>Poverty Rate</th>\n",
       "      <th>Unemployment Count</th>\n",
       "      <th>City</th>\n",
       "      <th>Unnamed: 0</th>\n",
       "      <th>Hospital Name</th>\n",
       "      <th>Address</th>\n",
       "      <th>State</th>\n",
       "      <th>ZIP Code</th>\n",
       "      <th>County Name</th>\n",
       "      <th>Hospital Type</th>\n",
       "      <th>Emergency Services</th>\n",
       "      <th>Hospital overall rating</th>\n",
       "    </tr>\n",
       "  </thead>\n",
       "  <tbody>\n",
       "    <tr>\n",
       "      <td>0</td>\n",
       "      <td>75001</td>\n",
       "      <td>13214.0</td>\n",
       "      <td>32.2</td>\n",
       "      <td>57633.0</td>\n",
       "      <td>43919.0</td>\n",
       "      <td>1722.0</td>\n",
       "      <td>13.031633</td>\n",
       "      <td>433.0</td>\n",
       "      <td>Addison</td>\n",
       "      <td>4567</td>\n",
       "      <td>METHODIST HOSPITAL FOR SURGERY</td>\n",
       "      <td>17101 DALLAS PARKWAY</td>\n",
       "      <td>TX</td>\n",
       "      <td>75001</td>\n",
       "      <td>DALLAS</td>\n",
       "      <td>Acute Care Hospitals</td>\n",
       "      <td>True</td>\n",
       "      <td>5</td>\n",
       "    </tr>\n",
       "    <tr>\n",
       "      <td>1</td>\n",
       "      <td>75006</td>\n",
       "      <td>47590.0</td>\n",
       "      <td>34.8</td>\n",
       "      <td>56985.0</td>\n",
       "      <td>27010.0</td>\n",
       "      <td>6927.0</td>\n",
       "      <td>14.555579</td>\n",
       "      <td>1996.0</td>\n",
       "      <td>Carrollton</td>\n",
       "      <td>4205</td>\n",
       "      <td>FIRST TEXAS HOSPITAL CARROLLTON LLC</td>\n",
       "      <td>1401 E TRINITY MILLS ROAD</td>\n",
       "      <td>TX</td>\n",
       "      <td>75006</td>\n",
       "      <td>DALLAS</td>\n",
       "      <td>Acute Care Hospitals</td>\n",
       "      <td>True</td>\n",
       "      <td>Not Available</td>\n",
       "    </tr>\n",
       "    <tr>\n",
       "      <td>2</td>\n",
       "      <td>75039</td>\n",
       "      <td>12197.0</td>\n",
       "      <td>32.2</td>\n",
       "      <td>73503.0</td>\n",
       "      <td>65135.0</td>\n",
       "      <td>819.0</td>\n",
       "      <td>6.714766</td>\n",
       "      <td>264.0</td>\n",
       "      <td>Irving</td>\n",
       "      <td>4089</td>\n",
       "      <td>MEDICAL CITY LAS COLINAS</td>\n",
       "      <td>6800 N MACARTHUR BLVD</td>\n",
       "      <td>TX</td>\n",
       "      <td>75039</td>\n",
       "      <td>DALLAS</td>\n",
       "      <td>Acute Care Hospitals</td>\n",
       "      <td>True</td>\n",
       "      <td>3</td>\n",
       "    </tr>\n",
       "    <tr>\n",
       "      <td>3</td>\n",
       "      <td>75051</td>\n",
       "      <td>41345.0</td>\n",
       "      <td>29.4</td>\n",
       "      <td>40107.0</td>\n",
       "      <td>16077.0</td>\n",
       "      <td>9865.0</td>\n",
       "      <td>23.860201</td>\n",
       "      <td>2442.0</td>\n",
       "      <td>Grand Prairie</td>\n",
       "      <td>4642</td>\n",
       "      <td>TEXAS GENERAL HOSPITAL</td>\n",
       "      <td>2709 HOSPITAL BLVD</td>\n",
       "      <td>TX</td>\n",
       "      <td>75051</td>\n",
       "      <td>DALLAS</td>\n",
       "      <td>Acute Care Hospitals</td>\n",
       "      <td>True</td>\n",
       "      <td>Not Available</td>\n",
       "    </tr>\n",
       "    <tr>\n",
       "      <td>4</td>\n",
       "      <td>75061</td>\n",
       "      <td>53233.0</td>\n",
       "      <td>30.6</td>\n",
       "      <td>40084.0</td>\n",
       "      <td>17739.0</td>\n",
       "      <td>11404.0</td>\n",
       "      <td>21.422802</td>\n",
       "      <td>2247.0</td>\n",
       "      <td>Irving</td>\n",
       "      <td>3519</td>\n",
       "      <td>BAYLOR MEDICAL CENTER AT IRVING</td>\n",
       "      <td>1901 N MACARTHUR BLVD</td>\n",
       "      <td>TX</td>\n",
       "      <td>75061</td>\n",
       "      <td>DALLAS</td>\n",
       "      <td>Acute Care Hospitals</td>\n",
       "      <td>True</td>\n",
       "      <td>4</td>\n",
       "    </tr>\n",
       "  </tbody>\n",
       "</table>\n",
       "</div>"
      ],
      "text/plain": [
       "   Zipcode  Population  Median Age  Household Income  Per Capita Income  \\\n",
       "0    75001     13214.0        32.2           57633.0            43919.0   \n",
       "1    75006     47590.0        34.8           56985.0            27010.0   \n",
       "2    75039     12197.0        32.2           73503.0            65135.0   \n",
       "3    75051     41345.0        29.4           40107.0            16077.0   \n",
       "4    75061     53233.0        30.6           40084.0            17739.0   \n",
       "\n",
       "   Poverty Count  Poverty Rate  Unemployment Count           City  Unnamed: 0  \\\n",
       "0         1722.0     13.031633               433.0        Addison        4567   \n",
       "1         6927.0     14.555579              1996.0     Carrollton        4205   \n",
       "2          819.0      6.714766               264.0         Irving        4089   \n",
       "3         9865.0     23.860201              2442.0  Grand Prairie        4642   \n",
       "4        11404.0     21.422802              2247.0         Irving        3519   \n",
       "\n",
       "                         Hospital Name                    Address State  \\\n",
       "0       METHODIST HOSPITAL FOR SURGERY       17101 DALLAS PARKWAY    TX   \n",
       "1  FIRST TEXAS HOSPITAL CARROLLTON LLC  1401 E TRINITY MILLS ROAD    TX   \n",
       "2             MEDICAL CITY LAS COLINAS      6800 N MACARTHUR BLVD    TX   \n",
       "3               TEXAS GENERAL HOSPITAL         2709 HOSPITAL BLVD    TX   \n",
       "4      BAYLOR MEDICAL CENTER AT IRVING      1901 N MACARTHUR BLVD    TX   \n",
       "\n",
       "   ZIP Code County Name         Hospital Type  Emergency Services  \\\n",
       "0     75001      DALLAS  Acute Care Hospitals                True   \n",
       "1     75006      DALLAS  Acute Care Hospitals                True   \n",
       "2     75039      DALLAS  Acute Care Hospitals                True   \n",
       "3     75051      DALLAS  Acute Care Hospitals                True   \n",
       "4     75061      DALLAS  Acute Care Hospitals                True   \n",
       "\n",
       "  Hospital overall rating  \n",
       "0                       5  \n",
       "1           Not Available  \n",
       "2                       3  \n",
       "3           Not Available  \n",
       "4                       4  "
      ]
     },
     "execution_count": 4,
     "metadata": {},
     "output_type": "execute_result"
    }
   ],
   "source": [
    "zip_merge_df = pd.merge(c_df,h_df,left_on='Zipcode', right_on='ZIP Code', how='inner')\n",
    "zip_merge_df.head()"
   ]
  },
  {
   "cell_type": "code",
   "execution_count": 5,
   "metadata": {},
   "outputs": [
    {
     "data": {
      "text/plain": [
       "array(['Moderate', 'Low', 'Very Low'], dtype=object)"
      ]
     },
     "execution_count": 5,
     "metadata": {},
     "output_type": "execute_result"
    }
   ],
   "source": [
    "results = [] \n",
    "\n",
    "for x in zip_merge_df[\"Household Income\"]:\n",
    "        if x <= 24950:\n",
    "            results.append(\"Very Low\")\n",
    "        elif x >= 24951 and x <= 41550:\n",
    "            results.append(\"Low\")\n",
    "        else:\n",
    "            results.append(\"Moderate\")\n",
    "            \n",
    "zip_merge_df[\"Income Bracket\"] = results\n",
    "\n",
    "zip_merge_df[\"Income Bracket\"].unique()"
   ]
  },
  {
   "cell_type": "code",
   "execution_count": 6,
   "metadata": {},
   "outputs": [
    {
     "data": {
      "text/plain": [
       "<BarContainer object of 3 artists>"
      ]
     },
     "execution_count": 6,
     "metadata": {},
     "output_type": "execute_result"
    },
    {
     "data": {
      "image/png": "[encoded data removed]",
      "text/plain": [
       "<Figure size 432x288 with 1 Axes>"
      ]
     },
     "metadata": {
      "needs_background": "light"
     },
     "output_type": "display_data"
    }
   ],
   "source": [
    "x_axis = np.arange(len(zip_merge_df[\"Income Bracket\"].unique()))\n",
    "plt.bar(x_axis, len(zip_merge_df[\"Hospital Name\"]), color=\"b\", align=\"center\")"
   ]
  },
  {
   "cell_type": "code",
   "execution_count": 7,
   "metadata": {},
   "outputs": [
    {
     "data": {
      "text/plain": [
       "([<matplotlib.axis.XTick at 0x11a4f4990>,\n",
       "  <matplotlib.axis.XTick at 0x11a506490>,\n",
       "  <matplotlib.axis.XTick at 0x11a506810>],\n",
       " <a list of 3 Text xticklabel objects>)"
      ]
     },
     "execution_count": 7,
     "metadata": {},
     "output_type": "execute_result"
    },
    {
     "data": {
      "image/png": "[encoded data removed]",
      "text/plain": [
       "<Figure size 432x288 with 1 Axes>"
      ]
     },
     "metadata": {
      "needs_background": "light"
     },
     "output_type": "display_data"
    }
   ],
   "source": [
    "tick_locations = [value for value in x_axis]\n",
    "plt.xticks(tick_locations, zip_merge_df[\"Income Bracket\"].unique())"
   ]
  },
  {
   "cell_type": "code",
   "execution_count": null,
   "metadata": {},
   "outputs": [],
   "source": []
  }
 ],
 "metadata": {
  "kernelspec": {
   "display_name": "Python 3",
   "language": "python",
   "name": "python3"
  },
  "language_info": {
   "codemirror_mode": {
    "name": "ipython",
    "version": 3
   },
   "file_extension": ".py",
   "mimetype": "text/x-python",
   "name": "python",
   "nbconvert_exporter": "python",
   "pygments_lexer": "ipython3",
   "version": "3.7.4"
  }
 },
 "nbformat": 4,
 "nbformat_minor": 2
}
